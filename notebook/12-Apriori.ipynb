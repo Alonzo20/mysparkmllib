{
 "cells": [
  {
   "cell_type": "code",
   "execution_count": 5,
   "metadata": {},
   "outputs": [],
   "source": [
    "from numpy import *"
   ]
  },
  {
   "cell_type": "code",
   "execution_count": 6,
   "metadata": {},
   "outputs": [],
   "source": [
    "# 加载数据集\n",
    "def loadDataSet():\n",
    "    return [[1, 3, 4], [2, 3, 5], [1, 2, 3, 5], [2, 5]]"
   ]
  },
  {
   "cell_type": "code",
   "execution_count": 7,
   "metadata": {},
   "outputs": [],
   "source": [
    "def createC1(dataSet):\n",
    "    \"\"\"createC1（创建集合 C1）\n",
    "\n",
    "    Args:\n",
    "        dataSet 原始数据集\n",
    "    Returns:\n",
    "        frozenset 返回一个 frozenset 格式的 list\n",
    "    \"\"\"\n",
    "\n",
    "    C1 = []\n",
    "    for transaction in dataSet:\n",
    "        for item in transaction:\n",
    "            if not [item] in C1:\n",
    "                # 遍历所有的元素，如果不在 C1 出现过，那么就 append\n",
    "                C1.append([item])\n",
    "    # 对数组进行 `从小到大` 的排序\n",
    "    # print 'sort 前=', C1\n",
    "    C1.sort()\n",
    "    # frozenset 表示冻结的 set 集合，元素无改变；可以把它当字典的 key 来使用\n",
    "    # print 'sort 后=', C1\n",
    "    # print 'frozenset=', map(frozenset, C1)\n",
    "    return map(frozenset, C1)"
   ]
  },
  {
   "cell_type": "code",
   "execution_count": 11,
   "metadata": {},
   "outputs": [],
   "source": [
    "result = createC1(loadDataSet())"
   ]
  },
  {
   "cell_type": "code",
   "execution_count": 12,
   "metadata": {},
   "outputs": [
    {
     "name": "stdout",
     "output_type": "stream",
     "text": [
      "frozenset({1})\n",
      "frozenset({2})\n",
      "frozenset({3})\n",
      "frozenset({4})\n",
      "frozenset({5})\n"
     ]
    }
   ],
   "source": [
    "for res in result:\n",
    "    print(res)"
   ]
  },
  {
   "cell_type": "code",
   "execution_count": 13,
   "metadata": {},
   "outputs": [],
   "source": [
    "# 找出数据集 dataSet 中支持度 >= 最小支持度的候选项集以及它们的支持度。即我们的频繁项集。\n",
    "def apriori(dataSet, minSupport=0.5):\n",
    "    \"\"\"apriori（首先构建集合 C1，然后扫描数据集来判断这些只有一个元素的项集是否满足最小支持度的要求。那么满足最小支持度要求的项集构成集合 L1。然后 L1 中的元素相互组合成 C2，C2 再进一步过滤变成 L2，然后以此类推，知道 CN 的长度为 0 时结束，即可找出所有频繁项集的支持度。）\n",
    "\n",
    "    Args:\n",
    "        dataSet 原始数据集\n",
    "        minSupport 支持度的阈值\n",
    "    Returns:\n",
    "        L 频繁项集的全集\n",
    "        supportData 所有元素和支持度的全集\n",
    "    \"\"\"\n",
    "    # C1 即对 dataSet 进行去重，排序，放入 list 中，然后转换所有的元素为 frozenset\n",
    "    C1 = createC1(dataSet)\n",
    "    # print 'C1: ', C1\n",
    "    # 对每一行进行 set 转换，然后存放到集合中\n",
    "    D = map(set, dataSet)\n",
    "    # print 'D=', D\n",
    "    # 计算候选数据集 C1 在数据集 D 中的支持度，并返回支持度大于 minSupport 的数据\n",
    "    L1, supportData = scanD(D, C1, minSupport)\n",
    "    # print \"L1=\", L1, \"\\n\", \"outcome: \", supportData\n",
    "\n",
    "    # L 加了一层 list, L 一共 2 层 list\n",
    "    L = [L1]\n",
    "    k = 2\n",
    "    # 判断 L 的第 k-2 项的数据长度是否 > 0。第一次执行时 L 为 [[frozenset([1]), frozenset([3]), frozenset([2]), frozenset([5])]]。L[k-2]=L[0]=[frozenset([1]), frozenset([3]), frozenset([2]), frozenset([5])]，最后面 k += 1\n",
    "    while (len(L[k-2]) > 0):\n",
    "        # print 'k=', k, L, L[k-2]\n",
    "        Ck = aprioriGen(L[k-2], k) # 例如: 以 {0},{1},{2} 为输入且 k = 2 则输出 {0,1}, {0,2}, {1,2}. 以 {0,1},{0,2},{1,2} 为输入且 k = 3 则输出 {0,1,2}\n",
    "        # print 'Ck', Ck\n",
    "\n",
    "        Lk, supK = scanD(D, Ck, minSupport) # 计算候选数据集 CK 在数据集 D 中的支持度，并返回支持度大于 minSupport 的数据\n",
    "        # 保存所有候选项集的支持度，如果字典没有，就追加元素，如果有，就更新元素\n",
    "        supportData.update(supK)\n",
    "        if len(Lk) == 0:\n",
    "            break\n",
    "        # Lk 表示满足频繁子项的集合，L 元素在增加，例如: \n",
    "        # l=[[set(1), set(2), set(3)]]\n",
    "        # l=[[set(1), set(2), set(3)], [set(1, 2), set(2, 3)]]\n",
    "        L.append(Lk)\n",
    "        k += 1\n",
    "        # print 'k=', k, len(L[k-2])\n",
    "    return L, supportData\n"
   ]
  },
  {
   "cell_type": "code",
   "execution_count": 14,
   "metadata": {},
   "outputs": [],
   "source": [
    "\n",
    "def testApriori():\n",
    "    # 加载测试数据集\n",
    "    dataSet = loadDataSet()\n",
    "    print ('dataSet: ', dataSet)\n",
    "\n",
    "    # Apriori 算法生成频繁项集以及它们的支持度\n",
    "    L1, supportData1 = apriori(dataSet, minSupport=0.7)\n",
    "    print ('L(0.7): ', L1)\n",
    "    print ('supportData(0.7): ', supportData1)\n",
    "\n",
    "    print ('->->->->->->->->->->->->->->->->->->->->->->->->->->->->')\n",
    "\n",
    "    # Apriori 算法生成频繁项集以及它们的支持度\n",
    "    L2, supportData2 = apriori(dataSet, minSupport=0.5)\n",
    "    print ('L(0.5): ', L2)\n",
    "    print ('supportData(0.5): ', supportData2)"
   ]
  },
  {
   "cell_type": "code",
   "execution_count": 16,
   "metadata": {},
   "outputs": [],
   "source": [
    "# 计算候选数据集 CK 在数据集 D 中的支持度，并返回支持度大于最小支持度（minSupport）的数据\n",
    "def scanD(D, Ck, minSupport):\n",
    "    \"\"\"scanD（计算候选数据集 CK 在数据集 D 中的支持度，并返回支持度大于最小支持度 minSupport 的数据）\n",
    "\n",
    "    Args:\n",
    "        D 数据集\n",
    "        Ck 候选项集列表\n",
    "        minSupport 最小支持度\n",
    "    Returns:\n",
    "        retList 支持度大于 minSupport 的集合\n",
    "        supportData 候选项集支持度数据\n",
    "    \"\"\"\n",
    "\n",
    "    # ssCnt 临时存放选数据集 Ck 的频率. 例如: a->10, b->5, c->8    \n",
    "    ssCnt = {}\n",
    "    for tid in D:\n",
    "        for can in Ck:\n",
    "            # s.issubset(t)  测试是否 s 中的每一个元素都在 t 中\n",
    "            if can.issubset(tid):\n",
    "                if not ssCnt.has_key(can):\n",
    "                    ssCnt[can] = 1\n",
    "                else:\n",
    "                    ssCnt[can] += 1\n",
    "    numItems = float(len(D)) # 数据集 D 的数量\n",
    "    retList = []\n",
    "    supportData = {}\n",
    "    for key in ssCnt:\n",
    "        # 支持度 = 候选项（key）出现的次数 / 所有数据集的数量\n",
    "        support = ssCnt[key]/numItems\n",
    "        if support >= minSupport:\n",
    "            # 在 retList 的首位插入元素，只存储支持度满足频繁项集的值\n",
    "            retList.insert(0, key)\n",
    "        # 存储所有的候选项（key）和对应的支持度（support）\n",
    "        supportData[key] = support\n",
    "    return retList, supportData"
   ]
  },
  {
   "cell_type": "code",
   "execution_count": 17,
   "metadata": {},
   "outputs": [
    {
     "name": "stdout",
     "output_type": "stream",
     "text": [
      "dataSet:  [[1, 3, 4], [2, 3, 5], [1, 2, 3, 5], [2, 5]]\n"
     ]
    },
    {
     "ename": "AttributeError",
     "evalue": "'dict' object has no attribute 'has_key'",
     "output_type": "error",
     "traceback": [
      "\u001b[0;31m---------------------------------------------------------------------------\u001b[0m",
      "\u001b[0;31mAttributeError\u001b[0m                            Traceback (most recent call last)",
      "\u001b[0;32m<ipython-input-17-3705c27546b7>\u001b[0m in \u001b[0;36m<module>\u001b[0;34m()\u001b[0m\n\u001b[0;32m----> 1\u001b[0;31m \u001b[0mtestApriori\u001b[0m\u001b[0;34m(\u001b[0m\u001b[0;34m)\u001b[0m\u001b[0;34m\u001b[0m\u001b[0m\n\u001b[0m",
      "\u001b[0;32m<ipython-input-14-3013305e42dc>\u001b[0m in \u001b[0;36mtestApriori\u001b[0;34m()\u001b[0m\n\u001b[1;32m      6\u001b[0m \u001b[0;34m\u001b[0m\u001b[0m\n\u001b[1;32m      7\u001b[0m     \u001b[0;31m# Apriori 算法生成频繁项集以及它们的支持度\u001b[0m\u001b[0;34m\u001b[0m\u001b[0;34m\u001b[0m\u001b[0m\n\u001b[0;32m----> 8\u001b[0;31m     \u001b[0mL1\u001b[0m\u001b[0;34m,\u001b[0m \u001b[0msupportData1\u001b[0m \u001b[0;34m=\u001b[0m \u001b[0mapriori\u001b[0m\u001b[0;34m(\u001b[0m\u001b[0mdataSet\u001b[0m\u001b[0;34m,\u001b[0m \u001b[0mminSupport\u001b[0m\u001b[0;34m=\u001b[0m\u001b[0;36m0.7\u001b[0m\u001b[0;34m)\u001b[0m\u001b[0;34m\u001b[0m\u001b[0m\n\u001b[0m\u001b[1;32m      9\u001b[0m     \u001b[0mprint\u001b[0m \u001b[0;34m(\u001b[0m\u001b[0;34m'L(0.7): '\u001b[0m\u001b[0;34m,\u001b[0m \u001b[0mL1\u001b[0m\u001b[0;34m)\u001b[0m\u001b[0;34m\u001b[0m\u001b[0m\n\u001b[1;32m     10\u001b[0m     \u001b[0mprint\u001b[0m \u001b[0;34m(\u001b[0m\u001b[0;34m'supportData(0.7): '\u001b[0m\u001b[0;34m,\u001b[0m \u001b[0msupportData1\u001b[0m\u001b[0;34m)\u001b[0m\u001b[0;34m\u001b[0m\u001b[0m\n",
      "\u001b[0;32m<ipython-input-13-51c454d3daa5>\u001b[0m in \u001b[0;36mapriori\u001b[0;34m(dataSet, minSupport)\u001b[0m\n\u001b[1;32m     17\u001b[0m     \u001b[0;31m# print 'D=', D\u001b[0m\u001b[0;34m\u001b[0m\u001b[0;34m\u001b[0m\u001b[0m\n\u001b[1;32m     18\u001b[0m     \u001b[0;31m# 计算候选数据集 C1 在数据集 D 中的支持度，并返回支持度大于 minSupport 的数据\u001b[0m\u001b[0;34m\u001b[0m\u001b[0;34m\u001b[0m\u001b[0m\n\u001b[0;32m---> 19\u001b[0;31m     \u001b[0mL1\u001b[0m\u001b[0;34m,\u001b[0m \u001b[0msupportData\u001b[0m \u001b[0;34m=\u001b[0m \u001b[0mscanD\u001b[0m\u001b[0;34m(\u001b[0m\u001b[0mD\u001b[0m\u001b[0;34m,\u001b[0m \u001b[0mC1\u001b[0m\u001b[0;34m,\u001b[0m \u001b[0mminSupport\u001b[0m\u001b[0;34m)\u001b[0m\u001b[0;34m\u001b[0m\u001b[0m\n\u001b[0m\u001b[1;32m     20\u001b[0m     \u001b[0;31m# print \"L1=\", L1, \"\\n\", \"outcome: \", supportData\u001b[0m\u001b[0;34m\u001b[0m\u001b[0;34m\u001b[0m\u001b[0m\n\u001b[1;32m     21\u001b[0m \u001b[0;34m\u001b[0m\u001b[0m\n",
      "\u001b[0;32m<ipython-input-16-8767a186d4b1>\u001b[0m in \u001b[0;36mscanD\u001b[0;34m(D, Ck, minSupport)\u001b[0m\n\u001b[1;32m     18\u001b[0m             \u001b[0;31m# s.issubset(t)  测试是否 s 中的每一个元素都在 t 中\u001b[0m\u001b[0;34m\u001b[0m\u001b[0;34m\u001b[0m\u001b[0m\n\u001b[1;32m     19\u001b[0m             \u001b[0;32mif\u001b[0m \u001b[0mcan\u001b[0m\u001b[0;34m.\u001b[0m\u001b[0missubset\u001b[0m\u001b[0;34m(\u001b[0m\u001b[0mtid\u001b[0m\u001b[0;34m)\u001b[0m\u001b[0;34m:\u001b[0m\u001b[0;34m\u001b[0m\u001b[0m\n\u001b[0;32m---> 20\u001b[0;31m                 \u001b[0;32mif\u001b[0m \u001b[0;32mnot\u001b[0m \u001b[0mssCnt\u001b[0m\u001b[0;34m.\u001b[0m\u001b[0mhas_key\u001b[0m\u001b[0;34m(\u001b[0m\u001b[0mcan\u001b[0m\u001b[0;34m)\u001b[0m\u001b[0;34m:\u001b[0m\u001b[0;34m\u001b[0m\u001b[0m\n\u001b[0m\u001b[1;32m     21\u001b[0m                     \u001b[0mssCnt\u001b[0m\u001b[0;34m[\u001b[0m\u001b[0mcan\u001b[0m\u001b[0;34m]\u001b[0m \u001b[0;34m=\u001b[0m \u001b[0;36m1\u001b[0m\u001b[0;34m\u001b[0m\u001b[0m\n\u001b[1;32m     22\u001b[0m                 \u001b[0;32melse\u001b[0m\u001b[0;34m:\u001b[0m\u001b[0;34m\u001b[0m\u001b[0m\n",
      "\u001b[0;31mAttributeError\u001b[0m: 'dict' object has no attribute 'has_key'"
     ]
    }
   ],
   "source": [
    "testApriori()"
   ]
  },
  {
   "cell_type": "code",
   "execution_count": null,
   "metadata": {},
   "outputs": [],
   "source": []
  }
 ],
 "metadata": {
  "kernelspec": {
   "display_name": "Python 3",
   "language": "python",
   "name": "python3"
  },
  "language_info": {
   "codemirror_mode": {
    "name": "ipython",
    "version": 3
   },
   "file_extension": ".py",
   "mimetype": "text/x-python",
   "name": "python",
   "nbconvert_exporter": "python",
   "pygments_lexer": "ipython3",
   "version": "3.6.5"
  }
 },
 "nbformat": 4,
 "nbformat_minor": 2
}
