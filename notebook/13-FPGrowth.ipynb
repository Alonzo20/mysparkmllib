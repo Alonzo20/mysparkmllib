{
 "cells": [
  {
   "cell_type": "code",
   "execution_count": 1,
   "metadata": {},
   "outputs": [],
   "source": [
    "class treeNode:\n",
    "    def __init__(self, nameValue, numOccur, parentNode):\n",
    "        self.name = nameValue\n",
    "        self.count = numOccur\n",
    "        self.nodeLink = None\n",
    "        # needs to be updated\n",
    "        self.parent = parentNode\n",
    "        self.children = {}\n",
    "\n",
    "    def inc(self, numOccur):\n",
    "        \"\"\"inc(对count变量增加给定值)\n",
    "        \"\"\"\n",
    "        self.count += numOccur\n",
    "\n",
    "    def disp(self, ind=1):\n",
    "        \"\"\"disp(用于将树以文本形式显示)\n",
    "\n",
    "        \"\"\"\n",
    "        print('  '*ind, self.name, ' ', self.count)\n",
    "        for child in self.children.values():\n",
    "            child.disp(ind+1)\n"
   ]
  },
  {
   "cell_type": "code",
   "execution_count": 2,
   "metadata": {},
   "outputs": [
    {
     "name": "stdout",
     "output_type": "stream",
     "text": [
      "   pyramid   9\n",
      "     eye   13\n",
      "     phoenix   3\n",
      "None\n"
     ]
    }
   ],
   "source": [
    "    rootNode = treeNode('pyramid', 9, None)\n",
    "    rootNode.children['eye'] = treeNode('eye', 13, None)\n",
    "    rootNode.children['phoenix'] = treeNode('phoenix', 3, None)\n",
    "    # 将树以文本形式显示\n",
    "    print(rootNode.disp())"
   ]
  },
  {
   "cell_type": "code",
   "execution_count": 3,
   "metadata": {},
   "outputs": [],
   "source": [
    "\n",
    "def loadSimpDat():\n",
    "    simpDat = [['r', 'z', 'h', 'j', 'p'],\n",
    "               ['z', 'y', 'x', 'w', 'v', 'u', 't', 's'],\n",
    "               ['z'],\n",
    "               ['r', 'x', 'n', 'o', 's'],\n",
    "            #    ['r', 'x', 'n', 'o', 's'],\n",
    "               ['y', 'r', 'x', 'z', 'q', 't', 'p'],\n",
    "               ['y', 'z', 'x', 'e', 'q', 's', 't', 'm']]\n",
    "    return simpDat"
   ]
  },
  {
   "cell_type": "code",
   "execution_count": 5,
   "metadata": {},
   "outputs": [],
   "source": [
    "# load样本数据\n",
    "simpDat = loadSimpDat()"
   ]
  },
  {
   "cell_type": "code",
   "execution_count": 6,
   "metadata": {},
   "outputs": [
    {
     "data": {
      "text/plain": [
       "[['r', 'z', 'h', 'j', 'p'],\n",
       " ['z', 'y', 'x', 'w', 'v', 'u', 't', 's'],\n",
       " ['z'],\n",
       " ['r', 'x', 'n', 'o', 's'],\n",
       " ['y', 'r', 'x', 'z', 'q', 't', 'p'],\n",
       " ['y', 'z', 'x', 'e', 'q', 's', 't', 'm']]"
      ]
     },
     "execution_count": 6,
     "metadata": {},
     "output_type": "execute_result"
    }
   ],
   "source": [
    "simpDat"
   ]
  },
  {
   "cell_type": "code",
   "execution_count": 11,
   "metadata": {},
   "outputs": [],
   "source": [
    "def createInitSet(dataSet):\n",
    "    retDict = {}\n",
    "    for trans in dataSet:\n",
    "        if frozenset(trans) not in retDict.keys():\n",
    "            retDict[frozenset(trans)] = 1\n",
    "        else:\n",
    "            retDict[frozenset(trans)] += 1\n",
    "    return retDict"
   ]
  },
  {
   "cell_type": "code",
   "execution_count": 12,
   "metadata": {},
   "outputs": [
    {
     "name": "stdout",
     "output_type": "stream",
     "text": [
      "{frozenset({'j', 'z', 'p', 'h', 'r'}): 1, frozenset({'y', 'v', 'w', 'u', 's', 'z', 'x', 't'}): 1, frozenset({'z'}): 1, frozenset({'s', 'o', 'x', 'n', 'r'}): 1, frozenset({'y', 'q', 'z', 'x', 't', 'p', 'r'}): 1, frozenset({'y', 'e', 'q', 'm', 's', 'z', 'x', 't'}): 1}\n"
     ]
    }
   ],
   "source": [
    " # frozen set 格式化 并 重新装载 样本数据，对所有的行进行统计求和，格式: {行：出现次数}\n",
    "initSet = createInitSet(simpDat)\n",
    "print(initSet)"
   ]
  },
  {
   "cell_type": "code",
   "execution_count": 13,
   "metadata": {},
   "outputs": [],
   "source": [
    "def createTree(dataSet, minSup=1):\n",
    "    \"\"\"createTree(生成FP-tree)\n",
    "\n",
    "    Args:\n",
    "        dataSet  dist{行：出现次数}的样本数据\n",
    "        minSup   最小的支持度\n",
    "    Returns:\n",
    "        retTree  FP-tree\n",
    "        headerTable 满足minSup {所有的元素+(value, treeNode)}\n",
    "    \"\"\"\n",
    "    # 支持度>=minSup的dist{所有元素：出现的次数}\n",
    "    headerTable = {}\n",
    "    # 循环 dist{行：出现次数}的样本数据\n",
    "    for trans in dataSet:\n",
    "        # 对所有的行进行循环，得到行里面的所有元素\n",
    "        # 统计每一行中，每个元素出现的总次数\n",
    "        for item in trans:\n",
    "            # 例如： {'ababa': 3}  count(a)=3+3+3=9   count(b)=3+3=6\n",
    "            headerTable[item] = headerTable.get(item, 0) + dataSet[trans]\n",
    "    # 删除 headerTable中，元素次数<最小支持度的元素\n",
    "    for k in list(headerTable.keys()):  # python3中.keys()返回的是迭代器不是list,不能在遍历时对其改变。\n",
    "        if headerTable[k] < minSup:\n",
    "            del(headerTable[k])\n",
    "\n",
    "    # 满足minSup: set(各元素集合)\n",
    "    freqItemSet = set(headerTable.keys())\n",
    "    # 如果不存在，直接返回None\n",
    "    if len(freqItemSet) == 0:\n",
    "        return None, None\n",
    "    for k in headerTable:\n",
    "        # 格式化： dist{元素key: [元素次数, None]}\n",
    "        headerTable[k] = [headerTable[k], None]\n",
    "\n",
    "    # create tree\n",
    "    retTree = treeNode('Null Set', 1, None)\n",
    "    # 循环 dist{行：出现次数}的样本数据\n",
    "    for tranSet, count in dataSet.items():\n",
    "        # print('tranSet, count=', tranSet, count)\n",
    "        # localD = dist{元素key: 元素总出现次数}\n",
    "        localD = {}\n",
    "        for item in tranSet:\n",
    "            # 判断是否在满足minSup的集合中\n",
    "            if item in freqItemSet:\n",
    "                # print('headerTable[item][0]=', headerTable[item][0], headerTable[item])\n",
    "                localD[item] = headerTable[item][0]\n",
    "        # print('localD=', localD)\n",
    "        # 对每一行的key 进行排序，然后开始往树添加枝丫，直到丰满\n",
    "        # 第二次，如果在同一个排名下出现，那么就对该枝丫的值进行追加，继续递归调用！\n",
    "        if len(localD) > 0:\n",
    "            # p=key,value; 所以是通过value值的大小，进行从大到小进行排序\n",
    "            # orderedItems 表示取出元组的key值，也就是字母本身，但是字母本身是大到小的顺序\n",
    "            orderedItems = [v[0] for v in sorted(localD.items(), key=lambda p: p[1], reverse=True)]\n",
    "            # print 'orderedItems=', orderedItems, 'headerTable', headerTable, '\\n\\n\\n'\n",
    "            # 填充树，通过有序的orderedItems的第一位，进行顺序填充 第一层的子节点。\n",
    "            updateTree(orderedItems, retTree, headerTable, count)\n",
    "\n",
    "    return retTree, headerTable"
   ]
  },
  {
   "cell_type": "code",
   "execution_count": 14,
   "metadata": {},
   "outputs": [
    {
     "ename": "NameError",
     "evalue": "name 'updateTree' is not defined",
     "output_type": "error",
     "traceback": [
      "\u001b[0;31m---------------------------------------------------------------------------\u001b[0m",
      "\u001b[0;31mNameError\u001b[0m                                 Traceback (most recent call last)",
      "\u001b[0;32m<ipython-input-14-110e35ae7a3c>\u001b[0m in \u001b[0;36m<module>\u001b[0;34m()\u001b[0m\n\u001b[1;32m      2\u001b[0m \u001b[0;31m# 输入：dist{行：出现次数}的样本数据  和  最小的支持度\u001b[0m\u001b[0;34m\u001b[0m\u001b[0;34m\u001b[0m\u001b[0m\n\u001b[1;32m      3\u001b[0m \u001b[0;31m# 输出：最终的PF-tree，通过循环获取第一层的节点，然后每一层的节点进行递归的获取每一行的字节点，也就是分支。然后所谓的指针，就是后来的指向已存在的\u001b[0m\u001b[0;34m\u001b[0m\u001b[0;34m\u001b[0m\u001b[0m\n\u001b[0;32m----> 4\u001b[0;31m \u001b[0mmyFPtree\u001b[0m\u001b[0;34m,\u001b[0m \u001b[0mmyHeaderTab\u001b[0m \u001b[0;34m=\u001b[0m \u001b[0mcreateTree\u001b[0m\u001b[0;34m(\u001b[0m\u001b[0minitSet\u001b[0m\u001b[0;34m,\u001b[0m \u001b[0;36m3\u001b[0m\u001b[0;34m)\u001b[0m\u001b[0;34m\u001b[0m\u001b[0m\n\u001b[0m\u001b[1;32m      5\u001b[0m \u001b[0mmyFPtree\u001b[0m\u001b[0;34m.\u001b[0m\u001b[0mdisp\u001b[0m\u001b[0;34m(\u001b[0m\u001b[0;34m)\u001b[0m\u001b[0;34m\u001b[0m\u001b[0m\n",
      "\u001b[0;32m<ipython-input-13-e363b63d7434>\u001b[0m in \u001b[0;36mcreateTree\u001b[0;34m(dataSet, minSup)\u001b[0m\n\u001b[1;32m     53\u001b[0m             \u001b[0;31m# print 'orderedItems=', orderedItems, 'headerTable', headerTable, '\\n\\n\\n'\u001b[0m\u001b[0;34m\u001b[0m\u001b[0;34m\u001b[0m\u001b[0m\n\u001b[1;32m     54\u001b[0m             \u001b[0;31m# 填充树，通过有序的orderedItems的第一位，进行顺序填充 第一层的子节点。\u001b[0m\u001b[0;34m\u001b[0m\u001b[0;34m\u001b[0m\u001b[0m\n\u001b[0;32m---> 55\u001b[0;31m             \u001b[0mupdateTree\u001b[0m\u001b[0;34m(\u001b[0m\u001b[0morderedItems\u001b[0m\u001b[0;34m,\u001b[0m \u001b[0mretTree\u001b[0m\u001b[0;34m,\u001b[0m \u001b[0mheaderTable\u001b[0m\u001b[0;34m,\u001b[0m \u001b[0mcount\u001b[0m\u001b[0;34m)\u001b[0m\u001b[0;34m\u001b[0m\u001b[0m\n\u001b[0m\u001b[1;32m     56\u001b[0m \u001b[0;34m\u001b[0m\u001b[0m\n\u001b[1;32m     57\u001b[0m     \u001b[0;32mreturn\u001b[0m \u001b[0mretTree\u001b[0m\u001b[0;34m,\u001b[0m \u001b[0mheaderTable\u001b[0m\u001b[0;34m\u001b[0m\u001b[0m\n",
      "\u001b[0;31mNameError\u001b[0m: name 'updateTree' is not defined"
     ]
    }
   ],
   "source": []
  },
  {
   "cell_type": "code",
   "execution_count": 15,
   "metadata": {},
   "outputs": [],
   "source": [
    "def updateTree(items, inTree, headerTable, count):\n",
    "    \"\"\"updateTree(更新FP-tree，第二次遍历)\n",
    "\n",
    "    # 针对每一行的数据\n",
    "    # 最大的key,  添加\n",
    "    Args:\n",
    "        items       满足minSup 排序后的元素key的数组（大到小的排序）\n",
    "        inTree      空的Tree对象\n",
    "        headerTable 满足minSup {所有的元素+(value, treeNode)}\n",
    "        count       原数据集中每一组Kay出现的次数\n",
    "    \"\"\"\n",
    "    # 取出 元素 出现次数最高的\n",
    "    # 如果该元素在 inTree.children 这个字典中，就进行累加\n",
    "    # 如果该元素不存在 就 inTree.children 字典中新增key，value为初始化的 treeNode 对象\n",
    "    if items[0] in inTree.children:\n",
    "        # 更新 最大元素，对应的 treeNode 对象的count进行叠加\n",
    "        inTree.children[items[0]].inc(count)\n",
    "    else:\n",
    "        # 如果不存在子节点，我们为该inTree添加子节点\n",
    "        inTree.children[items[0]] = treeNode(items[0], count, inTree)\n",
    "        # 如果满足minSup的dist字典的value值第二位为null， 我们就设置该元素为 本节点对应的tree节点\n",
    "        # 如果元素第二位不为null，我们就更新header节点\n",
    "        if headerTable[items[0]][1] is None:\n",
    "            # headerTable只记录第一次节点出现的位置\n",
    "            headerTable[items[0]][1] = inTree.children[items[0]]\n",
    "        else:\n",
    "            # 本质上是修改headerTable的key对应的Tree，的nodeLink值\n",
    "            updateHeader(headerTable[items[0]][1], inTree.children[items[0]])\n",
    "    if len(items) > 1:\n",
    "        # 递归的调用，在items[0]的基础上，添加item0[1]做子节点， count只要循环的进行累计加和而已，统计出节点的最后的统计值。\n",
    "        updateTree(items[1:], inTree.children[items[0]], headerTable, count)"
   ]
  },
  {
   "cell_type": "code",
   "execution_count": 16,
   "metadata": {},
   "outputs": [
    {
     "ename": "NameError",
     "evalue": "name 'updateHeader' is not defined",
     "output_type": "error",
     "traceback": [
      "\u001b[0;31m---------------------------------------------------------------------------\u001b[0m",
      "\u001b[0;31mNameError\u001b[0m                                 Traceback (most recent call last)",
      "\u001b[0;32m<ipython-input-16-110e35ae7a3c>\u001b[0m in \u001b[0;36m<module>\u001b[0;34m()\u001b[0m\n\u001b[1;32m      2\u001b[0m \u001b[0;31m# 输入：dist{行：出现次数}的样本数据  和  最小的支持度\u001b[0m\u001b[0;34m\u001b[0m\u001b[0;34m\u001b[0m\u001b[0m\n\u001b[1;32m      3\u001b[0m \u001b[0;31m# 输出：最终的PF-tree，通过循环获取第一层的节点，然后每一层的节点进行递归的获取每一行的字节点，也就是分支。然后所谓的指针，就是后来的指向已存在的\u001b[0m\u001b[0;34m\u001b[0m\u001b[0;34m\u001b[0m\u001b[0m\n\u001b[0;32m----> 4\u001b[0;31m \u001b[0mmyFPtree\u001b[0m\u001b[0;34m,\u001b[0m \u001b[0mmyHeaderTab\u001b[0m \u001b[0;34m=\u001b[0m \u001b[0mcreateTree\u001b[0m\u001b[0;34m(\u001b[0m\u001b[0minitSet\u001b[0m\u001b[0;34m,\u001b[0m \u001b[0;36m3\u001b[0m\u001b[0;34m)\u001b[0m\u001b[0;34m\u001b[0m\u001b[0m\n\u001b[0m\u001b[1;32m      5\u001b[0m \u001b[0mmyFPtree\u001b[0m\u001b[0;34m.\u001b[0m\u001b[0mdisp\u001b[0m\u001b[0;34m(\u001b[0m\u001b[0;34m)\u001b[0m\u001b[0;34m\u001b[0m\u001b[0m\n",
      "\u001b[0;32m<ipython-input-13-e363b63d7434>\u001b[0m in \u001b[0;36mcreateTree\u001b[0;34m(dataSet, minSup)\u001b[0m\n\u001b[1;32m     53\u001b[0m             \u001b[0;31m# print 'orderedItems=', orderedItems, 'headerTable', headerTable, '\\n\\n\\n'\u001b[0m\u001b[0;34m\u001b[0m\u001b[0;34m\u001b[0m\u001b[0m\n\u001b[1;32m     54\u001b[0m             \u001b[0;31m# 填充树，通过有序的orderedItems的第一位，进行顺序填充 第一层的子节点。\u001b[0m\u001b[0;34m\u001b[0m\u001b[0;34m\u001b[0m\u001b[0m\n\u001b[0;32m---> 55\u001b[0;31m             \u001b[0mupdateTree\u001b[0m\u001b[0;34m(\u001b[0m\u001b[0morderedItems\u001b[0m\u001b[0;34m,\u001b[0m \u001b[0mretTree\u001b[0m\u001b[0;34m,\u001b[0m \u001b[0mheaderTable\u001b[0m\u001b[0;34m,\u001b[0m \u001b[0mcount\u001b[0m\u001b[0;34m)\u001b[0m\u001b[0;34m\u001b[0m\u001b[0m\n\u001b[0m\u001b[1;32m     56\u001b[0m \u001b[0;34m\u001b[0m\u001b[0m\n\u001b[1;32m     57\u001b[0m     \u001b[0;32mreturn\u001b[0m \u001b[0mretTree\u001b[0m\u001b[0;34m,\u001b[0m \u001b[0mheaderTable\u001b[0m\u001b[0;34m\u001b[0m\u001b[0m\n",
      "\u001b[0;32m<ipython-input-15-dce2ae4e29d4>\u001b[0m in \u001b[0;36mupdateTree\u001b[0;34m(items, inTree, headerTable, count)\u001b[0m\n\u001b[1;32m     26\u001b[0m         \u001b[0;32melse\u001b[0m\u001b[0;34m:\u001b[0m\u001b[0;34m\u001b[0m\u001b[0m\n\u001b[1;32m     27\u001b[0m             \u001b[0;31m# 本质上是修改headerTable的key对应的Tree，的nodeLink值\u001b[0m\u001b[0;34m\u001b[0m\u001b[0;34m\u001b[0m\u001b[0m\n\u001b[0;32m---> 28\u001b[0;31m             \u001b[0mupdateHeader\u001b[0m\u001b[0;34m(\u001b[0m\u001b[0mheaderTable\u001b[0m\u001b[0;34m[\u001b[0m\u001b[0mitems\u001b[0m\u001b[0;34m[\u001b[0m\u001b[0;36m0\u001b[0m\u001b[0;34m]\u001b[0m\u001b[0;34m]\u001b[0m\u001b[0;34m[\u001b[0m\u001b[0;36m1\u001b[0m\u001b[0;34m]\u001b[0m\u001b[0;34m,\u001b[0m \u001b[0minTree\u001b[0m\u001b[0;34m.\u001b[0m\u001b[0mchildren\u001b[0m\u001b[0;34m[\u001b[0m\u001b[0mitems\u001b[0m\u001b[0;34m[\u001b[0m\u001b[0;36m0\u001b[0m\u001b[0;34m]\u001b[0m\u001b[0;34m]\u001b[0m\u001b[0;34m)\u001b[0m\u001b[0;34m\u001b[0m\u001b[0m\n\u001b[0m\u001b[1;32m     29\u001b[0m     \u001b[0;32mif\u001b[0m \u001b[0mlen\u001b[0m\u001b[0;34m(\u001b[0m\u001b[0mitems\u001b[0m\u001b[0;34m)\u001b[0m \u001b[0;34m>\u001b[0m \u001b[0;36m1\u001b[0m\u001b[0;34m:\u001b[0m\u001b[0;34m\u001b[0m\u001b[0m\n\u001b[1;32m     30\u001b[0m         \u001b[0;31m# 递归的调用，在items[0]的基础上，添加item0[1]做子节点， count只要循环的进行累计加和而已，统计出节点的最后的统计值。\u001b[0m\u001b[0;34m\u001b[0m\u001b[0;34m\u001b[0m\u001b[0m\n",
      "\u001b[0;31mNameError\u001b[0m: name 'updateHeader' is not defined"
     ]
    }
   ],
   "source": []
  },
  {
   "cell_type": "code",
   "execution_count": 17,
   "metadata": {},
   "outputs": [],
   "source": [
    "def updateHeader(nodeToTest, targetNode):\n",
    "    \"\"\"updateHeader(更新头指针，建立相同元素之间的关系，例如： 左边的r指向右边的r值，就是后出现的相同元素 指向 已经出现的元素)\n",
    "\n",
    "    从头指针的nodeLink开始，一直沿着nodeLink直到到达链表末尾。这就是链表。\n",
    "    性能：如果链表很长可能会遇到迭代调用的次数限制。\n",
    "\n",
    "    Args:\n",
    "        nodeToTest  满足minSup {所有的元素+(value, treeNode)}\n",
    "        targetNode  Tree对象的子节点\n",
    "    \"\"\"\n",
    "    # 建立相同元素之间的关系，例如： 左边的r指向右边的r值\n",
    "    while (nodeToTest.nodeLink is not None):\n",
    "        nodeToTest = nodeToTest.nodeLink\n",
    "    nodeToTest.nodeLink = targetNode"
   ]
  },
  {
   "cell_type": "code",
   "execution_count": 18,
   "metadata": {},
   "outputs": [
    {
     "name": "stdout",
     "output_type": "stream",
     "text": [
      "   Null Set   1\n",
      "     z   5\n",
      "       r   1\n",
      "       x   3\n",
      "         y   3\n",
      "           s   2\n",
      "             t   2\n",
      "           t   1\n",
      "             r   1\n",
      "     x   1\n",
      "       s   1\n",
      "         r   1\n"
     ]
    }
   ],
   "source": [
    "# 创建FP树\n",
    "# 输入：dist{行：出现次数}的样本数据  和  最小的支持度\n",
    "# 输出：最终的PF-tree，通过循环获取第一层的节点，然后每一层的节点进行递归的获取每一行的字节点，也就是分支。然后所谓的指针，就是后来的指向已存在的\n",
    "myFPtree, myHeaderTab = createTree(initSet, 3)\n",
    "myFPtree.disp()"
   ]
  },
  {
   "cell_type": "code",
   "execution_count": 19,
   "metadata": {},
   "outputs": [
    {
     "ename": "NameError",
     "evalue": "name 'findPrefixPath' is not defined",
     "output_type": "error",
     "traceback": [
      "\u001b[0;31m---------------------------------------------------------------------------\u001b[0m",
      "\u001b[0;31mNameError\u001b[0m                                 Traceback (most recent call last)",
      "\u001b[0;32m<ipython-input-19-5a423f9c81bf>\u001b[0m in \u001b[0;36m<module>\u001b[0;34m()\u001b[0m\n\u001b[1;32m      1\u001b[0m \u001b[0;31m# 抽取条件模式基\u001b[0m\u001b[0;34m\u001b[0m\u001b[0;34m\u001b[0m\u001b[0m\n\u001b[1;32m      2\u001b[0m \u001b[0;31m# 查询树节点的，频繁子项\u001b[0m\u001b[0;34m\u001b[0m\u001b[0;34m\u001b[0m\u001b[0m\n\u001b[0;32m----> 3\u001b[0;31m \u001b[0mprint\u001b[0m\u001b[0;34m(\u001b[0m\u001b[0;34m'x --->'\u001b[0m\u001b[0;34m,\u001b[0m \u001b[0mfindPrefixPath\u001b[0m\u001b[0;34m(\u001b[0m\u001b[0;34m'x'\u001b[0m\u001b[0;34m,\u001b[0m \u001b[0mmyHeaderTab\u001b[0m\u001b[0;34m[\u001b[0m\u001b[0;34m'x'\u001b[0m\u001b[0;34m]\u001b[0m\u001b[0;34m[\u001b[0m\u001b[0;36m1\u001b[0m\u001b[0;34m]\u001b[0m\u001b[0;34m)\u001b[0m\u001b[0;34m)\u001b[0m\u001b[0;34m\u001b[0m\u001b[0m\n\u001b[0m\u001b[1;32m      4\u001b[0m \u001b[0mprint\u001b[0m\u001b[0;34m(\u001b[0m\u001b[0;34m'z --->'\u001b[0m\u001b[0;34m,\u001b[0m \u001b[0mfindPrefixPath\u001b[0m\u001b[0;34m(\u001b[0m\u001b[0;34m'z'\u001b[0m\u001b[0;34m,\u001b[0m \u001b[0mmyHeaderTab\u001b[0m\u001b[0;34m[\u001b[0m\u001b[0;34m'z'\u001b[0m\u001b[0;34m]\u001b[0m\u001b[0;34m[\u001b[0m\u001b[0;36m1\u001b[0m\u001b[0;34m]\u001b[0m\u001b[0;34m)\u001b[0m\u001b[0;34m)\u001b[0m\u001b[0;34m\u001b[0m\u001b[0m\n\u001b[1;32m      5\u001b[0m \u001b[0mprint\u001b[0m\u001b[0;34m(\u001b[0m\u001b[0;34m'r --->'\u001b[0m\u001b[0;34m,\u001b[0m \u001b[0mfindPrefixPath\u001b[0m\u001b[0;34m(\u001b[0m\u001b[0;34m'r'\u001b[0m\u001b[0;34m,\u001b[0m \u001b[0mmyHeaderTab\u001b[0m\u001b[0;34m[\u001b[0m\u001b[0;34m'r'\u001b[0m\u001b[0;34m]\u001b[0m\u001b[0;34m[\u001b[0m\u001b[0;36m1\u001b[0m\u001b[0;34m]\u001b[0m\u001b[0;34m)\u001b[0m\u001b[0;34m)\u001b[0m\u001b[0;34m\u001b[0m\u001b[0m\n",
      "\u001b[0;31mNameError\u001b[0m: name 'findPrefixPath' is not defined"
     ]
    }
   ],
   "source": [
    "# 抽取条件模式基\n",
    "# 查询树节点的，频繁子项\n",
    "print('x --->', findPrefixPath('x', myHeaderTab['x'][1]))\n",
    "print('z --->', findPrefixPath('z', myHeaderTab['z'][1]))\n",
    "print('r --->', findPrefixPath('r', myHeaderTab['r'][1]))"
   ]
  },
  {
   "cell_type": "code",
   "execution_count": 20,
   "metadata": {},
   "outputs": [],
   "source": [
    "\n",
    "def findPrefixPath(basePat, treeNode):\n",
    "    \"\"\"findPrefixPath 基础数据集\n",
    "\n",
    "    Args:\n",
    "        basePat  要查询的节点值\n",
    "        treeNode 查询的节点所在的当前nodeTree\n",
    "    Returns:\n",
    "        condPats 对非basePat的倒叙值作为key,赋值为count数\n",
    "    \"\"\"\n",
    "    condPats = {}\n",
    "    # 对 treeNode的link进行循环\n",
    "    while treeNode is not None:\n",
    "        prefixPath = []\n",
    "        # 寻找改节点的父节点，相当于找到了该节点的频繁项集\n",
    "        ascendTree(treeNode, prefixPath)\n",
    "        # 排除自身这个元素，判断是否存在父元素（所以要>1, 说明存在父元素）\n",
    "        if len(prefixPath) > 1:\n",
    "            # 对非basePat的倒叙值作为key,赋值为count数\n",
    "            # prefixPath[1:] 变frozenset后，字母就变无序了\n",
    "            # condPats[frozenset(prefixPath)] = treeNode.count\n",
    "            condPats[frozenset(prefixPath[1:])] = treeNode.count\n",
    "        # 递归，寻找改节点的下一个 相同值的链接节点\n",
    "        treeNode = treeNode.nodeLink\n",
    "        # print(treeNode)\n",
    "    return condPats"
   ]
  },
  {
   "cell_type": "code",
   "execution_count": 23,
   "metadata": {},
   "outputs": [
    {
     "name": "stdout",
     "output_type": "stream",
     "text": [
      "x ---> {frozenset({'z'}): 3}\n",
      "z ---> {}\n",
      "r ---> {frozenset({'z'}): 1, frozenset({'x', 's'}): 1, frozenset({'y', 't', 'x', 'z'}): 1}\n"
     ]
    }
   ],
   "source": [
    "# 抽取条件模式基\n",
    "# 查询树节点的，频繁子项\n",
    "print('x --->', findPrefixPath('x', myHeaderTab['x'][1]))\n",
    "print('z --->', findPrefixPath('z', myHeaderTab['z'][1]))\n",
    "print('r --->', findPrefixPath('r', myHeaderTab['r'][1]))\n"
   ]
  },
  {
   "cell_type": "code",
   "execution_count": 22,
   "metadata": {},
   "outputs": [],
   "source": [
    "\n",
    "def ascendTree(leafNode, prefixPath):\n",
    "    \"\"\"ascendTree(如果存在父节点，就记录当前节点的name值)\n",
    "\n",
    "    Args:\n",
    "        leafNode   查询的节点对于的nodeTree\n",
    "        prefixPath 要查询的节点值\n",
    "    \"\"\"\n",
    "    if leafNode.parent is not None:\n",
    "        prefixPath.append(leafNode.name)\n",
    "        ascendTree(leafNode.parent, prefixPath)"
   ]
  },
  {
   "cell_type": "code",
   "execution_count": 24,
   "metadata": {},
   "outputs": [],
   "source": [
    "def mineTree(inTree, headerTable, minSup, preFix, freqItemList):\n",
    "    \"\"\"mineTree(创建条件FP树)\n",
    "\n",
    "    Args:\n",
    "        inTree       myFPtree\n",
    "        headerTable  满足minSup {所有的元素+(value, treeNode)}\n",
    "        minSup       最小支持项集\n",
    "        preFix       preFix为newFreqSet上一次的存储记录，一旦没有myHead，就不会更新\n",
    "        freqItemList 用来存储频繁子项的列表\n",
    "    \"\"\"\n",
    "    # 通过value进行从小到大的排序， 得到频繁项集的key\n",
    "    # 最小支持项集的key的list集合\n",
    "    bigL = [v[0] for v in sorted(headerTable.items(), key=lambda p: p[1])]\n",
    "    print('-----', sorted(headerTable.items(), key=lambda p: p[1][0]))\n",
    "    print('bigL=', bigL)\n",
    "    # 循环遍历 最频繁项集的key，从小到大的递归寻找对应的频繁项集\n",
    "    for basePat in bigL:\n",
    "        # preFix为newFreqSet上一次的存储记录，一旦没有myHead，就不会更新\n",
    "        newFreqSet = preFix.copy()\n",
    "        newFreqSet.add(basePat)\n",
    "        print('newFreqSet=', newFreqSet, preFix)\n",
    "\n",
    "        freqItemList.append(newFreqSet)\n",
    "        print('freqItemList=', freqItemList)\n",
    "        condPattBases = findPrefixPath(basePat, headerTable[basePat][1])\n",
    "        print('condPattBases=', basePat, condPattBases)\n",
    "\n",
    "        # 构建FP-tree\n",
    "        myCondTree, myHead = createTree(condPattBases, minSup)\n",
    "        print('myHead=', myHead)\n",
    "        # 挖掘条件 FP-tree, 如果myHead不为空，表示满足minSup {所有的元素+(value, treeNode)}\n",
    "        if myHead is not None:\n",
    "            myCondTree.disp(1)\n",
    "            print('\\n\\n\\n')\n",
    "            # 递归 myHead 找出频繁项集\n",
    "            mineTree(myCondTree, myHead, minSup, newFreqSet, freqItemList)\n",
    "        print('\\n\\n\\n')"
   ]
  },
  {
   "cell_type": "code",
   "execution_count": 27,
   "metadata": {},
   "outputs": [
    {
     "name": "stdout",
     "output_type": "stream",
     "text": [
      "----- [('1', [197522, <__main__.treeNode object at 0x10d65e710>]), ('11', [364065, <__main__.treeNode object at 0x10d65eda0>]), ('3', [450031, <__main__.treeNode object at 0x10d65ec50>]), ('6', [601374, <__main__.treeNode object at 0x10d65e7b8>])]\n",
      "bigL= ['1', '11', '3', '6']\n",
      "newFreqSet= {'1'} set()\n",
      "freqItemList= [{'1'}]\n",
      "condPattBases= 1 {frozenset({'3'}): 24333, frozenset({'3', '11', '6'}): 37743, frozenset({'6'}): 25962, frozenset({'11', '6'}): 48349, frozenset({'3', '6'}): 20059, frozenset({'11'}): 3265, frozenset({'3', '11'}): 2525}\n",
      "myHead= {'6': [132113, <__main__.treeNode object at 0x10d65ebe0>]}\n",
      "   Null Set   1\n",
      "     6   132113\n",
      "\n",
      "\n",
      "\n",
      "\n",
      "----- [('6', [132113, <__main__.treeNode object at 0x10d65ebe0>])]\n",
      "bigL= ['6']\n",
      "newFreqSet= {'1', '6'} {'1'}\n",
      "freqItemList= [{'1'}, {'1', '6'}]\n",
      "condPattBases= 6 {}\n",
      "myHead= None\n",
      "\n",
      "\n",
      "\n",
      "\n",
      "\n",
      "\n",
      "\n",
      "\n",
      "newFreqSet= {'11'} set()\n",
      "freqItemList= [{'1'}, {'1', '6'}, {'11'}]\n",
      "condPattBases= 11 {frozenset({'6'}): 180331, frozenset({'3', '6'}): 143682, frozenset({'3'}): 17604}\n",
      "myHead= {'6': [324013, <__main__.treeNode object at 0x10d5e1198>], '3': [161286, <__main__.treeNode object at 0x10d5e11d0>]}\n",
      "   Null Set   1\n",
      "     6   324013\n",
      "       3   143682\n",
      "     3   17604\n",
      "\n",
      "\n",
      "\n",
      "\n",
      "----- [('3', [161286, <__main__.treeNode object at 0x10d5e11d0>]), ('6', [324013, <__main__.treeNode object at 0x10d5e1198>])]\n",
      "bigL= ['3', '6']\n",
      "newFreqSet= {'3', '11'} {'11'}\n",
      "freqItemList= [{'1'}, {'1', '6'}, {'11'}, {'3', '11'}]\n",
      "condPattBases= 3 {frozenset({'6'}): 143682}\n",
      "myHead= {'6': [143682, <__main__.treeNode object at 0x10d5e14a8>]}\n",
      "   Null Set   1\n",
      "     6   143682\n",
      "\n",
      "\n",
      "\n",
      "\n",
      "----- [('6', [143682, <__main__.treeNode object at 0x10d5e14a8>])]\n",
      "bigL= ['6']\n",
      "newFreqSet= {'3', '11', '6'} {'3', '11'}\n",
      "freqItemList= [{'1'}, {'1', '6'}, {'11'}, {'3', '11'}, {'3', '11', '6'}]\n",
      "condPattBases= 6 {}\n",
      "myHead= None\n",
      "\n",
      "\n",
      "\n",
      "\n",
      "\n",
      "\n",
      "\n",
      "\n",
      "newFreqSet= {'11', '6'} {'11'}\n",
      "freqItemList= [{'1'}, {'1', '6'}, {'11'}, {'3', '11'}, {'3', '11', '6'}, {'11', '6'}]\n",
      "condPattBases= 6 {}\n",
      "myHead= None\n",
      "\n",
      "\n",
      "\n",
      "\n",
      "\n",
      "\n",
      "\n",
      "\n",
      "newFreqSet= {'3'} set()\n",
      "freqItemList= [{'1'}, {'1', '6'}, {'11'}, {'3', '11'}, {'3', '11', '6'}, {'11', '6'}, {'3'}]\n",
      "condPattBases= 3 {frozenset({'6'}): 265180}\n",
      "myHead= {'6': [265180, <__main__.treeNode object at 0x10d5e1748>]}\n",
      "   Null Set   1\n",
      "     6   265180\n",
      "\n",
      "\n",
      "\n",
      "\n",
      "----- [('6', [265180, <__main__.treeNode object at 0x10d5e1748>])]\n",
      "bigL= ['6']\n",
      "newFreqSet= {'3', '6'} {'3'}\n",
      "freqItemList= [{'1'}, {'1', '6'}, {'11'}, {'3', '11'}, {'3', '11', '6'}, {'11', '6'}, {'3'}, {'3', '6'}]\n",
      "condPattBases= 6 {}\n",
      "myHead= None\n",
      "\n",
      "\n",
      "\n",
      "\n",
      "\n",
      "\n",
      "\n",
      "\n",
      "newFreqSet= {'6'} set()\n",
      "freqItemList= [{'1'}, {'1', '6'}, {'11'}, {'3', '11'}, {'3', '11', '6'}, {'11', '6'}, {'3'}, {'3', '6'}, {'6'}]\n",
      "condPattBases= 6 {}\n",
      "myHead= None\n",
      "\n",
      "\n",
      "\n",
      "\n",
      "[{'1'}, {'1', '6'}, {'11'}, {'3', '11'}, {'3', '11', '6'}, {'11', '6'}, {'3'}, {'3', '6'}, {'6'}]\n"
     ]
    }
   ],
   "source": [
    "# 2.新闻网站点击流中挖掘，例如：文章1阅读过的人，还阅读过什么？\n",
    "parsedDat = [line.split() for line in open('/Users/zhangjianfeng/workspaces/workspace_github_bg/mysparkmllib/data/FPGrowth/kosarak.dat').readlines()]\n",
    "initSet = createInitSet(parsedDat)\n",
    "myFPtree, myHeaderTab = createTree(initSet, 100000)\n",
    "\n",
    "myFreList = []\n",
    "mineTree(myFPtree, myHeaderTab, 100000, set([]), myFreList)\n",
    "print (myFreList)"
   ]
  },
  {
   "cell_type": "code",
   "execution_count": null,
   "metadata": {},
   "outputs": [],
   "source": []
  }
 ],
 "metadata": {
  "kernelspec": {
   "display_name": "Python 3",
   "language": "python",
   "name": "python3"
  },
  "language_info": {
   "codemirror_mode": {
    "name": "ipython",
    "version": 3
   },
   "file_extension": ".py",
   "mimetype": "text/x-python",
   "name": "python",
   "nbconvert_exporter": "python",
   "pygments_lexer": "ipython3",
   "version": "3.6.5"
  }
 },
 "nbformat": 4,
 "nbformat_minor": 2
}
