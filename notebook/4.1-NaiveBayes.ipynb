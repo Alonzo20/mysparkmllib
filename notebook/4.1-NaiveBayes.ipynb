{
 "cells": [
  {
   "cell_type": "code",
   "execution_count": 1,
   "metadata": {},
   "outputs": [],
   "source": [
    "import numpy as np"
   ]
  },
  {
   "cell_type": "code",
   "execution_count": 2,
   "metadata": {},
   "outputs": [],
   "source": [
    "X = np.array([[-1, -1], [-2, -1], [-3, -2], [1, 1], [2, 1], [3, 2]])\n",
    "Y = np.array([1, 1, 1, 2, 2, 2])"
   ]
  },
  {
   "cell_type": "code",
   "execution_count": 3,
   "metadata": {},
   "outputs": [],
   "source": [
    "from sklearn.naive_bayes import GaussianNB \n",
    "# GaussianNB_高斯朴素贝叶斯"
   ]
  },
  {
   "cell_type": "code",
   "execution_count": 4,
   "metadata": {},
   "outputs": [
    {
     "data": {
      "text/plain": [
       "GaussianNB(priors=None)"
      ]
     },
     "execution_count": 4,
     "metadata": {},
     "output_type": "execute_result"
    }
   ],
   "source": [
    "clf = GaussianNB()\n",
    "clf.fit(X,Y)"
   ]
  },
  {
   "cell_type": "code",
   "execution_count": 5,
   "metadata": {},
   "outputs": [
    {
     "data": {
      "text/plain": [
       "array([1])"
      ]
     },
     "execution_count": 5,
     "metadata": {},
     "output_type": "execute_result"
    }
   ],
   "source": [
    "clf.predict([[-0.8,-1]])"
   ]
  },
  {
   "cell_type": "code",
   "execution_count": 6,
   "metadata": {},
   "outputs": [],
   "source": [
    "# GaussianNB一个重要的功能是有 partial_fit方法，这个方法的一般用在如果训练集数据量非常大，一次不能全部载入内存的时候。这时我们可以把训练集分成若干等分，\n",
    "# 重复调用partial_fit来一步步的学习训练集，非常方便。"
   ]
  },
  {
   "cell_type": "code",
   "execution_count": 7,
   "metadata": {},
   "outputs": [
    {
     "data": {
      "text/plain": [
       "array([1, 2])"
      ]
     },
     "execution_count": 7,
     "metadata": {},
     "output_type": "execute_result"
    }
   ],
   "source": [
    "np.unique(Y)"
   ]
  },
  {
   "cell_type": "code",
   "execution_count": 8,
   "metadata": {},
   "outputs": [
    {
     "data": {
      "text/plain": [
       "GaussianNB(priors=None)"
      ]
     },
     "execution_count": 8,
     "metadata": {},
     "output_type": "execute_result"
    }
   ],
   "source": [
    "clf_pf = GaussianNB()\n",
    "clf_pf.partial_fit(X, Y, np.unique(Y))"
   ]
  },
  {
   "cell_type": "code",
   "execution_count": 9,
   "metadata": {},
   "outputs": [
    {
     "data": {
      "text/plain": [
       "GaussianNB(priors=None)"
      ]
     },
     "execution_count": 9,
     "metadata": {},
     "output_type": "execute_result"
    }
   ],
   "source": [
    "clf_pf"
   ]
  },
  {
   "cell_type": "code",
   "execution_count": 11,
   "metadata": {},
   "outputs": [
    {
     "data": {
      "text/plain": [
       "array([1])"
      ]
     },
     "execution_count": 11,
     "metadata": {},
     "output_type": "execute_result"
    }
   ],
   "source": [
    "clf_pf.predict([[-0.8, -1]])"
   ]
  },
  {
   "cell_type": "code",
   "execution_count": 12,
   "metadata": {},
   "outputs": [],
   "source": [
    "# MultinomialNB_多项朴素贝叶斯"
   ]
  },
  {
   "cell_type": "code",
   "execution_count": 13,
   "metadata": {},
   "outputs": [],
   "source": [
    "import numpy as np\n",
    "X = np.random.randint(5, size=(6, 100))"
   ]
  },
  {
   "cell_type": "code",
   "execution_count": 14,
   "metadata": {},
   "outputs": [
    {
     "data": {
      "text/plain": [
       "array([[4, 4, 3, 3, 1, 2, 3, 2, 2, 3, 1, 3, 1, 3, 1, 3, 2, 4, 0, 2, 0, 3,\n",
       "        3, 1, 0, 2, 4, 4, 2, 4, 0, 0, 4, 1, 3, 3, 3, 4, 0, 0, 2, 3, 4, 2,\n",
       "        1, 4, 3, 4, 1, 3, 2, 4, 3, 4, 1, 2, 1, 3, 1, 1, 0, 3, 0, 4, 4, 4,\n",
       "        4, 0, 1, 3, 1, 0, 4, 2, 2, 0, 2, 4, 0, 1, 1, 1, 2, 1, 1, 1, 3, 2,\n",
       "        2, 2, 0, 1, 4, 3, 3, 3, 0, 2, 1, 1],\n",
       "       [0, 2, 1, 2, 0, 2, 4, 3, 4, 1, 1, 1, 1, 1, 1, 0, 1, 3, 0, 0, 2, 4,\n",
       "        4, 4, 4, 0, 2, 3, 2, 4, 4, 4, 3, 2, 3, 2, 0, 4, 0, 2, 0, 0, 0, 4,\n",
       "        2, 1, 3, 4, 2, 0, 3, 1, 3, 4, 3, 3, 4, 2, 4, 2, 3, 3, 4, 0, 1, 0,\n",
       "        2, 0, 2, 2, 4, 4, 1, 3, 0, 2, 0, 0, 3, 1, 0, 2, 3, 2, 4, 3, 0, 1,\n",
       "        1, 2, 1, 4, 3, 0, 1, 3, 1, 2, 0, 0],\n",
       "       [2, 0, 1, 3, 1, 1, 2, 0, 3, 2, 0, 2, 1, 4, 0, 3, 2, 3, 2, 2, 0, 0,\n",
       "        1, 2, 0, 1, 0, 4, 1, 4, 2, 2, 1, 3, 3, 4, 3, 3, 1, 2, 4, 4, 0, 3,\n",
       "        3, 3, 0, 0, 1, 2, 3, 2, 3, 2, 3, 3, 3, 4, 3, 1, 3, 4, 1, 1, 3, 0,\n",
       "        3, 0, 3, 4, 1, 0, 2, 1, 2, 0, 2, 4, 0, 3, 4, 4, 3, 4, 2, 0, 1, 4,\n",
       "        2, 4, 4, 3, 3, 1, 0, 3, 3, 0, 3, 2],\n",
       "       [3, 3, 3, 1, 3, 3, 3, 1, 3, 3, 0, 3, 2, 4, 1, 2, 1, 3, 0, 3, 1, 4,\n",
       "        0, 0, 0, 0, 1, 4, 1, 1, 3, 1, 3, 1, 2, 1, 0, 1, 0, 0, 3, 3, 2, 2,\n",
       "        2, 3, 0, 2, 3, 3, 2, 4, 4, 2, 0, 3, 3, 4, 0, 0, 0, 2, 0, 0, 3, 4,\n",
       "        3, 4, 0, 3, 2, 1, 2, 1, 4, 2, 2, 0, 1, 1, 4, 1, 2, 2, 2, 3, 4, 1,\n",
       "        0, 1, 0, 0, 1, 1, 2, 4, 4, 0, 4, 3],\n",
       "       [1, 0, 1, 3, 0, 3, 3, 1, 3, 2, 3, 4, 4, 1, 1, 4, 4, 4, 2, 0, 2, 1,\n",
       "        3, 2, 2, 0, 4, 2, 3, 3, 4, 2, 1, 4, 4, 0, 3, 1, 4, 0, 0, 1, 0, 2,\n",
       "        3, 4, 1, 0, 3, 0, 4, 2, 2, 4, 3, 2, 0, 3, 3, 0, 4, 3, 4, 3, 3, 4,\n",
       "        0, 0, 4, 1, 3, 0, 4, 3, 1, 2, 3, 3, 1, 4, 3, 4, 4, 1, 1, 0, 3, 2,\n",
       "        4, 4, 1, 2, 2, 2, 0, 1, 0, 3, 4, 2],\n",
       "       [4, 0, 2, 4, 3, 3, 3, 3, 3, 1, 3, 1, 3, 1, 4, 3, 1, 2, 1, 0, 1, 2,\n",
       "        2, 2, 3, 3, 4, 3, 1, 0, 4, 2, 0, 2, 3, 0, 0, 3, 1, 0, 1, 2, 0, 0,\n",
       "        3, 2, 4, 1, 0, 2, 2, 3, 4, 2, 2, 0, 1, 0, 4, 4, 3, 2, 4, 0, 0, 4,\n",
       "        4, 1, 4, 0, 2, 0, 1, 1, 4, 2, 2, 0, 2, 0, 1, 0, 0, 2, 4, 0, 2, 2,\n",
       "        1, 3, 3, 3, 2, 0, 1, 4, 2, 1, 0, 3]])"
      ]
     },
     "execution_count": 14,
     "metadata": {},
     "output_type": "execute_result"
    }
   ],
   "source": [
    "X"
   ]
  },
  {
   "cell_type": "code",
   "execution_count": 15,
   "metadata": {},
   "outputs": [],
   "source": [
    "y = np.array([1, 2, 3, 4, 5, 6])"
   ]
  },
  {
   "cell_type": "code",
   "execution_count": 17,
   "metadata": {},
   "outputs": [],
   "source": [
    "from sklearn.naive_bayes import MultinomialNB"
   ]
  },
  {
   "cell_type": "code",
   "execution_count": 18,
   "metadata": {},
   "outputs": [
    {
     "data": {
      "text/plain": [
       "MultinomialNB(alpha=1.0, class_prior=None, fit_prior=True)"
      ]
     },
     "execution_count": 18,
     "metadata": {},
     "output_type": "execute_result"
    }
   ],
   "source": [
    "clf = MultinomialNB()\n",
    "clf.fit(X, y)"
   ]
  },
  {
   "cell_type": "code",
   "execution_count": 19,
   "metadata": {},
   "outputs": [
    {
     "data": {
      "text/plain": [
       "array([3])"
      ]
     },
     "execution_count": 19,
     "metadata": {},
     "output_type": "execute_result"
    }
   ],
   "source": [
    "clf.predict(X[2:3])"
   ]
  },
  {
   "cell_type": "code",
   "execution_count": 20,
   "metadata": {},
   "outputs": [
    {
     "data": {
      "text/plain": [
       "array([1])"
      ]
     },
     "execution_count": 20,
     "metadata": {},
     "output_type": "execute_result"
    }
   ],
   "source": [
    "clf.predict(X[0:1])"
   ]
  },
  {
   "cell_type": "code",
   "execution_count": 21,
   "metadata": {},
   "outputs": [
    {
     "data": {
      "text/plain": [
       "array([3])"
      ]
     },
     "execution_count": 21,
     "metadata": {},
     "output_type": "execute_result"
    }
   ],
   "source": [
    "# BernoulliNB_伯努利朴素贝叶斯\n",
    "import numpy as np\n",
    "X = np.random.randint(2, size=(6, 100))\n",
    "Y = np.array([1, 2, 3, 4, 4, 5])\n",
    "from sklearn.naive_bayes import BernoulliNB\n",
    "clf = BernoulliNB()\n",
    "clf.fit(X, Y)\n",
    "clf.predict(X[2:3])"
   ]
  },
  {
   "cell_type": "code",
   "execution_count": null,
   "metadata": {},
   "outputs": [],
   "source": []
  }
 ],
 "metadata": {
  "kernelspec": {
   "display_name": "Python 3",
   "language": "python",
   "name": "python3"
  },
  "language_info": {
   "codemirror_mode": {
    "name": "ipython",
    "version": 3
   },
   "file_extension": ".py",
   "mimetype": "text/x-python",
   "name": "python",
   "nbconvert_exporter": "python",
   "pygments_lexer": "ipython3",
   "version": "3.6.5"
  }
 },
 "nbformat": 4,
 "nbformat_minor": 2
}
